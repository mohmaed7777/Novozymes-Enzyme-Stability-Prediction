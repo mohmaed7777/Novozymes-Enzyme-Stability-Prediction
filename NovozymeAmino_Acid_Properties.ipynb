{
  "nbformat": 4,
  "nbformat_minor": 0,
  "metadata": {
    "colab": {
      "provenance": [],
      "authorship_tag": "ABX9TyNWZ1BiQqnOkB2QCYo5LfHQ",
      "include_colab_link": true
    },
    "kernelspec": {
      "name": "python3",
      "display_name": "Python 3"
    },
    "language_info": {
      "name": "python"
    }
  },
  "cells": [
    {
      "cell_type": "markdown",
      "metadata": {
        "id": "view-in-github",
        "colab_type": "text"
      },
      "source": [
        "<a href=\"https://colab.research.google.com/github/mohmaed7777/Novozymes-Enzyme-Stability-Prediction/blob/main/NovozymeAmino_Acid_Properties.ipynb\" target=\"_parent\"><img src=\"https://colab.research.google.com/assets/colab-badge.svg\" alt=\"Open In Colab\"/></a>"
      ]
    },
    {
      "cell_type": "code",
      "execution_count": 1,
      "metadata": {
        "colab": {
          "base_uri": "https://localhost:8080/"
        },
        "id": "K2XyFa8L4dD7",
        "outputId": "97efe167-7b37-49cf-9aea-1f6bff92d06a"
      },
      "outputs": [
        {
          "output_type": "stream",
          "name": "stdout",
          "text": [
            "Looking in indexes: https://pypi.org/simple, https://us-python.pkg.dev/colab-wheels/public/simple/\n",
            "Requirement already satisfied: kaggle in /usr/local/lib/python3.8/dist-packages (1.5.12)\n",
            "Requirement already satisfied: python-slugify in /usr/local/lib/python3.8/dist-packages (from kaggle) (7.0.0)\n",
            "Requirement already satisfied: certifi in /usr/local/lib/python3.8/dist-packages (from kaggle) (2022.12.7)\n",
            "Requirement already satisfied: six>=1.10 in /usr/local/lib/python3.8/dist-packages (from kaggle) (1.15.0)\n",
            "Requirement already satisfied: python-dateutil in /usr/local/lib/python3.8/dist-packages (from kaggle) (2.8.2)\n",
            "Requirement already satisfied: tqdm in /usr/local/lib/python3.8/dist-packages (from kaggle) (4.64.1)\n",
            "Requirement already satisfied: requests in /usr/local/lib/python3.8/dist-packages (from kaggle) (2.23.0)\n",
            "Requirement already satisfied: urllib3 in /usr/local/lib/python3.8/dist-packages (from kaggle) (1.24.3)\n",
            "Requirement already satisfied: text-unidecode>=1.3 in /usr/local/lib/python3.8/dist-packages (from python-slugify->kaggle) (1.3)\n",
            "Requirement already satisfied: chardet<4,>=3.0.2 in /usr/local/lib/python3.8/dist-packages (from requests->kaggle) (3.0.4)\n",
            "Requirement already satisfied: idna<3,>=2.5 in /usr/local/lib/python3.8/dist-packages (from requests->kaggle) (2.10)\n"
          ]
        }
      ],
      "source": [
        "!pip install kaggle"
      ]
    },
    {
      "cell_type": "code",
      "source": [
        "!mkdir ~/.kaggle"
      ],
      "metadata": {
        "id": "tKwuLuTY5Bhf"
      },
      "execution_count": 2,
      "outputs": []
    },
    {
      "cell_type": "code",
      "source": [
        "! cp kaggle.json ~/.kaggle/"
      ],
      "metadata": {
        "id": "T2WTyaNk5LPO"
      },
      "execution_count": 3,
      "outputs": []
    },
    {
      "cell_type": "code",
      "source": [
        "! chmod 600 ~/.kaggle/kaggle.json"
      ],
      "metadata": {
        "id": "iOw0oKM25NP9"
      },
      "execution_count": 4,
      "outputs": []
    },
    {
      "cell_type": "code",
      "source": [
        "!kaggle competitions download -c novozymes-enzyme-stability-prediction\n"
      ],
      "metadata": {
        "colab": {
          "base_uri": "https://localhost:8080/"
        },
        "id": "R17sZQjQ5PGI",
        "outputId": "dcf2798b-cfde-4766-86f3-56b47fec8d8e"
      },
      "execution_count": 5,
      "outputs": [
        {
          "output_type": "stream",
          "name": "stdout",
          "text": [
            "Downloading novozymes-enzyme-stability-prediction.zip to /content\n",
            "\r  0% 0.00/7.06M [00:00<?, ?B/s]\r 71% 5.00M/7.06M [00:00<00:00, 40.9MB/s]\n",
            "\r100% 7.06M/7.06M [00:00<00:00, 53.6MB/s]\n"
          ]
        }
      ]
    },
    {
      "cell_type": "code",
      "source": [
        "! unzip novozymes-enzyme-stability-prediction.zip"
      ],
      "metadata": {
        "colab": {
          "base_uri": "https://localhost:8080/"
        },
        "id": "Qp2epdel5PDl",
        "outputId": "90d456e1-95ab-445d-a87c-1424be938368"
      },
      "execution_count": 6,
      "outputs": [
        {
          "output_type": "stream",
          "name": "stdout",
          "text": [
            "Archive:  novozymes-enzyme-stability-prediction.zip\n",
            "  inflating: sample_submission.csv   \n",
            "  inflating: test.csv                \n",
            "  inflating: train.csv               \n",
            "  inflating: train_updates_20220929.csv  \n",
            "  inflating: wildtype_structure_prediction_af2.pdb  \n"
          ]
        }
      ]
    },
    {
      "cell_type": "code",
      "source": [
        "import pandas as pd \n",
        "import numpy as np\n",
        "import matplotlib.pyplot as plt\n",
        "from scipy import stats\n",
        "from itertools import product \n",
        "from sklearn.model_selection import KFold\n",
        "from sklearn.preprocessing import MinMaxScaler\n",
        "\n",
        "from sklearn.model_selection import train_test_split\n",
        "from sklearn.ensemble import HistGradientBoostingRegressor\n",
        "\n"
      ],
      "metadata": {
        "id": "WJWOUR1K5PBO"
      },
      "execution_count": 7,
      "outputs": []
    },
    {
      "cell_type": "code",
      "source": [
        "Aminoacids = ['A', 'R', 'N','D', 'C','E','Q','G','H','I',\n",
        "              'L','K','M','F','P','S','T','W','Y','V']\n",
        "\n",
        "Blocks =[]\n",
        "\n",
        "maxSize = 4\n",
        "\n",
        "for k in range(1, maxSize):\n",
        "  Blocks.append([''.join(i) for i in product(Aminoacids, repeat= k)])"
      ],
      "metadata": {
        "id": "4PLJ6Mvz5O-z"
      },
      "execution_count": 18,
      "outputs": []
    },
    {
      "cell_type": "code",
      "source": [
        "#data = pd.read_csv('', index_col='seq_id')\n",
        "#dataMod = pd.read_csv('', index_col='seq_id')"
      ],
      "metadata": {
        "id": "XexVL-Ns5O8i"
      },
      "execution_count": 17,
      "outputs": []
    },
    {
      "cell_type": "code",
      "source": [
        "data = pd.read_csv('/content/train.csv',index_col=\"seq_id\")\n",
        "dataMod = pd.read_csv('/content/train_updates_20220929.csv',index_col=\"seq_id\")\n",
        "\n",
        "#from https://www.kaggle.com/competitions/novozymes-enzyme-stability-prediction/discussion/356251 Petr1zi0's answer\n",
        "\n",
        "all_features_nan = dataMod.isnull().all(\"columns\")\n",
        "data = data.drop(index=dataMod[all_features_nan].index)\n",
        "\n",
        "swap_ph_tm_indices = dataMod[~all_features_nan].index\n",
        "data.loc[swap_ph_tm_indices, [\"pH\", \"tm\"]] = dataMod.loc[swap_ph_tm_indices, [\"pH\", \"tm\"]]\n",
        "\n",
        "data['seqsize'] = [len(val) for val in data['protein_sequence']]\n",
        "\n",
        "data = data.fillna(data['pH'].max())"
      ],
      "metadata": {
        "id": "yR114sd_5OYv"
      },
      "execution_count": 19,
      "outputs": []
    },
    {
      "cell_type": "code",
      "source": [],
      "metadata": {
        "id": "CjwC_4Lk5OWH"
      },
      "execution_count": null,
      "outputs": []
    },
    {
      "cell_type": "code",
      "source": [],
      "metadata": {
        "id": "4C82tr3c5OT_"
      },
      "execution_count": null,
      "outputs": []
    },
    {
      "cell_type": "code",
      "source": [],
      "metadata": {
        "id": "APe0qYjS5ORs"
      },
      "execution_count": null,
      "outputs": []
    }
  ]
}